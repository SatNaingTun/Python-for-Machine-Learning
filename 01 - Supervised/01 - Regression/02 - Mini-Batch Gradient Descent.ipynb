{
 "cells": [
  {
   "attachments": {},
   "cell_type": "markdown",
   "metadata": {},
   "source": [
    "## Stochastics and Mini-Batch Gradient Descent\n",
    "\n",
    "Recall **batch gradient descent** formula as follows:\n",
    "\n",
    "$$\\theta_j := \\theta_j - \\alpha * \\sum_{i=1}^m(h_\\theta(x^{(i)}) - y^{(i)})x_j^{(i)} \\tag{for every $j$}$$  \n",
    "\n",
    "While it is perfect, estimating the gradient using **all samples** can be slow.\n",
    "\n",
    "We can instead using only one training example, which we called **stochastic gradient descent**.   Here we can pick the sample in two ways: with or without replacement.  \n",
    "- Here, **without replacement** refers to the process in which no same sample is used in the same **epoch**.  On the other hand, **with replacement** refers to a random sampling process where certain samples may overlap in the same **epoch**.\n",
    "- Here **epoch** means one iteration which the whole training set is being exhausted.  Thus, in without replacement, we simply loop from $i =1$ to $m$ for one epoch, where in each loop, we update the weight using only one sample as follows:\n",
    "  \n",
    "$$\\frac{\\partial J}{\\partial \\theta_j} = (h^{(i)}-y^{(i)})x_j$$\n",
    "\n",
    "$$ \\theta_j := \\theta_j - \\alpha * ((h_\\theta(x)^{(i)}-y^{(i)})x_j^{(i)}) \\tag{for every $j$}$$\n",
    "\n",
    "## Mini-Batch Gradient Descent\n",
    "\n",
    "Due to unstability of **stochastic gradient descent**,  **mini-batch gradient descent** is proposed.  We calculate the loss and gradient based on **subset of samples**.  (Recommended; used as standard in deep learning)\n",
    "\n",
    "$$\\frac{\\partial J}{\\partial \\theta_j} = \\sum_{i=start}^{batch}(h^{(i)}-y^{(i)})x_j$$\n",
    "\n",
    "$$\\theta_j := \\theta_j - \\alpha * \\sum_{i=start}^{batchsize}(h_\\theta(x^{(i)}) - y^{(i)})x_j^{(i)} \\tag{for every $j$}$$\n",
    "\n",
    "Similarly, we can do this with or without replacement.  In without replacement, we simply chop evenly and exhaust the whole training set for one epoch.\n",
    "\n",
    "## Polynomial Regression\n",
    "\n",
    "Limitation of simple linear regression comes when we have non-linear data.  We can simply use polynomial regression, which applies feature engineering using polynomial transformation.  For example, a degree-1 polynomial fits a straight line to the data like this: \n",
    "\n",
    "$$y = ax + b$$  \n",
    "\n",
    "A degree-3 polynomial fits a cubic curve to the data \n",
    "\n",
    "$$y = ax^3 + bx^2 + cx + d$$\n",
    "\n",
    "For example,"
   ]
  },
  {
   "cell_type": "code",
   "execution_count": 8,
   "metadata": {},
   "outputs": [
    {
     "name": "stdout",
     "output_type": "stream",
     "text": [
      "[[1. 2. 3. 1. 2. 3. 4. 6. 9.]]\n"
     ]
    }
   ],
   "source": [
    "import numpy as np\n",
    "from sklearn.preprocessing import PolynomialFeatures\n",
    "\n",
    "x = np.array([[1, 2, 3]])\n",
    "poly_X = PolynomialFeatures(degree = 2, include_bias=False).fit_transform(x)\n",
    "\n",
    "print(poly_X)\n",
    "# if an input sample is two dimensional and of the form [a, b], \n",
    "# the degree-2 polynomial features are [1, a, b, a^2, ab, b^2]."
   ]
  },
  {
   "cell_type": "markdown",
   "metadata": {},
   "source": [
    "## Code\n",
    "\n",
    "Before anything, do this on the terminal\n",
    "\n",
    "        docker compose up\n",
    "\n",
    "This will build the mlflow service for you, which you can access via http://localhost:5000\n",
    "\n",
    "**MLFlow** is a popular experiment tracking tool.  Everyone love it and use it.  Here I just demonstrated a very simple usage - please continue to self-study."
   ]
  },
  {
   "cell_type": "code",
   "execution_count": 9,
   "metadata": {},
   "outputs": [
    {
     "data": {
      "text/plain": [
       "<Experiment: artifact_location='mlflow-artifacts:/811964786902663680', experiment_id='811964786902663680', lifecycle_stage='active', name='chaky-diabetes-example', tags={}>"
      ]
     },
     "execution_count": 9,
     "metadata": {},
     "output_type": "execute_result"
    }
   ],
   "source": [
    "#experiment tracking\n",
    "import mlflow\n",
    "import os\n",
    "# This the dockerized method.\n",
    "# We build two docker containers, one for python/jupyter and another for mlflow.\n",
    "# The url `mlflow` is resolved into another container within the same composer.\n",
    "mlflow.set_tracking_uri(\"http://mlflow:5000\")\n",
    "# In the dockerized way, the user who runs this code will be `root`.\n",
    "# The MLflow will also log the run user_id as `root`.\n",
    "# To change that, we need to set this environ[\"LOGNAME\"] to your name.\n",
    "os.environ[\"LOGNAME\"] = \"chaky\"\n",
    "# mlflow.create_experiment(name=\"chaky-diabetes-example\")  #create if you haven't create\n",
    "mlflow.set_experiment(experiment_name=\"chaky-diabetes-example\")"
   ]
  },
  {
   "cell_type": "code",
   "execution_count": 10,
   "metadata": {},
   "outputs": [
    {
     "name": "stdout",
     "output_type": "stream",
     "text": [
      "Features:  ['age', 'sex', 'bmi', 'bp', 's1', 's2', 's3', 's4', 's5', 's6']\n"
     ]
    }
   ],
   "source": [
    "from sklearn.datasets import load_diabetes\n",
    "from sklearn.preprocessing import StandardScaler\n",
    "from sklearn.model_selection import train_test_split\n",
    "import numpy as np\n",
    "from time import time\n",
    "\n",
    "diabetes = load_diabetes()\n",
    "print(\"Features: \", diabetes.feature_names)\n",
    "X = diabetes.data\n",
    "y = diabetes.target\n",
    "m = X.shape[0]  #number of samples\n",
    "n = X.shape[1]  #number of features\n",
    "\n",
    "#polynomial transformation\n",
    "# X   = PolynomialFeatures(degree = 3, include_bias=False).fit_transform(X)\n",
    "\n",
    "X_train, X_test, y_train, y_test = train_test_split(X, y, test_size = 0.3)\n",
    "\n",
    "scaler = StandardScaler()\n",
    "X_train = scaler.fit_transform(X_train)\n",
    "X_test  = scaler.transform(X_test)\n",
    "\n",
    "# actually you can do like this too\n",
    "# X = np.insert(X, 0, 1, axis=1)\n",
    "intercept = np.ones((X_train.shape[0], 1))\n",
    "X_train   = np.concatenate((intercept, X_train), axis=1)\n",
    "intercept = np.ones((X_test.shape[0], 1))\n",
    "X_test    = np.concatenate((intercept, X_test), axis=1)"
   ]
  },
  {
   "cell_type": "markdown",
   "metadata": {},
   "source": [
    "Here, I want to demonstrate some techniques:\n",
    "- **Class** - it's much better to write any in the class form, as you can modularize it for future use, so please be comfortable with it\n",
    "- **Early stopping** - it's expensive to run the model until a certain set of iterations; instead, we can stop when the training loss is no longer decreasing\n",
    "- **Cross validation** - we never really do cross validation from scratch, so here I showed you how to do it\n",
    "\n",
    "Some terms worth mentioning:\n",
    "- **Epoch** - it's a popular term in ML/DL - one epoch refers to a training and validation process with all the training data with one model.\n",
    "\n",
    "Some coding practice worth mentioning:\n",
    "- Notice how I put `_` in front of some function; it does not really have any functionality aside from telling the coders that it is not meant for outside use (should not be called from `__main__`)"
   ]
  },
  {
   "cell_type": "code",
   "execution_count": 11,
   "metadata": {},
   "outputs": [],
   "source": [
    "from sklearn.model_selection import KFold\n",
    "\n",
    "class LinearRegression(object):\n",
    "    \n",
    "    #in this class, we add cross validation as well for some spicy code....\n",
    "    kfold = KFold(n_splits=5)\n",
    "            \n",
    "    def __init__(self, lr=0.001, num_epochs=500, batch_size=50, method='batch', cv=kfold):\n",
    "        self.lr         = lr\n",
    "        self.num_epochs = num_epochs\n",
    "        self.batch_size = batch_size\n",
    "        self.method     = method\n",
    "        self.cv         = cv\n",
    "\n",
    "    def mse(self, ytrue, ypred):\n",
    "        return ((ypred - ytrue) ** 2).sum() / ytrue.shape[0]\n",
    "    \n",
    "    def fit(self, X_train, y_train):\n",
    "            \n",
    "        #create a list of kfold scores\n",
    "        self.kfold_scores = list()\n",
    "        \n",
    "        #reset val loss\n",
    "        self.val_loss_old = np.inf\n",
    "\n",
    "        #kfold.split in the sklearn.....\n",
    "        #5 splits\n",
    "        for fold, (train_idx, val_idx) in enumerate(self.cv.split(X_train)):\n",
    "            \n",
    "            X_cross_train = X_train[train_idx]\n",
    "            y_cross_train = y_train[train_idx]\n",
    "            X_cross_val   = X_train[val_idx]\n",
    "            y_cross_val   = y_train[val_idx]\n",
    "            \n",
    "            self.theta = np.zeros(X_cross_train.shape[1])\n",
    "            \n",
    "            #define X_cross_train as only a subset of the data\n",
    "            #how big is this subset?  => mini-batch size ==> 50\n",
    "            \n",
    "            #one epoch will exhaust the WHOLE training set\n",
    "            with mlflow.start_run(run_name=f\"Fold-{fold}\", nested=True):\n",
    "                \n",
    "                params = {\"method\": self.method, \"lr\": self.lr}\n",
    "                mlflow.log_params(params=params)\n",
    "                \n",
    "                for epoch in range(self.num_epochs):\n",
    "                \n",
    "                    #with replacement or no replacement\n",
    "                    #with replacement means just randomize\n",
    "                    #with no replacement means 0:50, 51:100, 101:150, ......300:323\n",
    "                    #shuffle your index\n",
    "                    perm = np.random.permutation(X_cross_train.shape[0])\n",
    "                            \n",
    "                    X_cross_train = X_cross_train[perm]\n",
    "                    y_cross_train = y_cross_train[perm]\n",
    "                    \n",
    "                    if self.method == 'sto':\n",
    "                        for batch_idx in range(X_cross_train.shape[0]):\n",
    "                            X_method_train = X_cross_train[batch_idx].reshape(1, -1) #(11,) ==> (1, 11) ==> (m, n)\n",
    "                            y_method_train = y_cross_train[batch_idx]                    \n",
    "                            train_loss = self._train(X_method_train, y_method_train)\n",
    "                    elif self.method == 'mini':\n",
    "                        for batch_idx in range(0, X_cross_train.shape[0], self.batch_size):\n",
    "                            #batch_idx = 0, 50, 100, 150\n",
    "                            X_method_train = X_cross_train[batch_idx:batch_idx+self.batch_size, :]\n",
    "                            y_method_train = y_cross_train[batch_idx:batch_idx+self.batch_size]\n",
    "                            train_loss = self._train(X_method_train, y_method_train)\n",
    "                    else:\n",
    "                        X_method_train = X_cross_train\n",
    "                        y_method_train = y_cross_train\n",
    "                        train_loss = self._train(X_method_train, y_method_train)\n",
    "\n",
    "                    mlflow.log_metric(key=\"train_loss\", value=train_loss, step=epoch)\n",
    "\n",
    "                    yhat_val = self.predict(X_cross_val)\n",
    "                    val_loss_new = self.mse(y_cross_val, yhat_val)\n",
    "                    mlflow.log_metric(key=\"val_loss\", value=val_loss_new, step=epoch)\n",
    "                    \n",
    "                    #early stopping\n",
    "                    if np.allclose(val_loss_new, self.val_loss_old):\n",
    "                        break\n",
    "                    self.val_loss_old = val_loss_new\n",
    "            \n",
    "                self.kfold_scores.append(val_loss_new)\n",
    "                print(f\"Fold {fold}: {val_loss_new}\")\n",
    "            \n",
    "                    \n",
    "    def _train(self, X, y):\n",
    "        yhat = self.predict(X)\n",
    "        m = X.shape[0]\n",
    "        grad = (1/m) * X.T @ (yhat - y)\n",
    "        self.theta = self.theta - self.lr * grad\n",
    "        return self.mse(y, yhat)\n",
    "    \n",
    "    def predict(self, X):\n",
    "        return X @ self.theta  #===>(m, n) @ (n, )\n",
    "    \n",
    "    def _coef(self):\n",
    "        return self.theta[1:]  #remind that theta is (w0, w1, w2, w3, w4.....wn)\n",
    "                               #w0 is the bias or the intercept\n",
    "                               #w1....wn are the weights / coefficients / theta\n",
    "    def _bias(self):\n",
    "        return self.theta[0]"
   ]
  },
  {
   "cell_type": "markdown",
   "metadata": {},
   "source": [
    "## Experiment"
   ]
  },
  {
   "cell_type": "markdown",
   "metadata": {},
   "source": [
    "### Batch"
   ]
  },
  {
   "cell_type": "code",
   "execution_count": 12,
   "metadata": {},
   "outputs": [
    {
     "name": "stdout",
     "output_type": "stream",
     "text": [
      "Fold 0: 2960.465622366893\n",
      "Fold 1: 2869.5417886695004\n",
      "Fold 2: 2510.381255323355\n",
      "Fold 3: 3882.0099241283856\n",
      "Fold 4: 2511.3540788536443\n",
      "Test MSE:  3248.10595748922\n"
     ]
    },
    {
     "name": "stderr",
     "output_type": "stream",
     "text": [
      "2024/08/26 11:41:42 WARNING mlflow.utils.environment: Encountered an unexpected error while inferring pip requirements (model URI: /tmp/tmpgyn43yjz/model/model.pkl, flavor: sklearn), fall back to return ['scikit-learn==1.5.1', 'cloudpickle==3.0.0']. Set logging level to DEBUG to see the full traceback.\n",
      "/workspaces/Machine-Learning/.venv/lib/python3.10/site-packages/_distutils_hack/__init__.py:32: UserWarning: Setuptools is replacing distutils. Support for replacing an already imported distutils is deprecated. In the future, this condition will fail. Register concerns at https://github.com/pypa/setuptools/issues/new?template=distutils-deprecation.yml\n",
      "  warnings.warn(\n",
      "2024/08/26 11:41:42 WARNING mlflow.utils.environment: Failed to resolve installed pip version. ``pip`` will be added to conda.yaml environment spec without a version specifier.\n"
     ]
    }
   ],
   "source": [
    "params = {\"method\": \"batch\", \"lr\": 0.1}\n",
    "mlflow.start_run(run_name=f\"method-{params['method']}-lr-{params['lr']}\", nested=True)\n",
    "\n",
    "# #######\n",
    "\n",
    "model = LinearRegression(**params) #<==try put method=\"batch\" or \"sto\"\n",
    "model.fit(X_train, y_train)\n",
    "yhat = model.predict(X_test)\n",
    "mse  = model.mse(yhat, y_test)\n",
    "\n",
    "# print the mse\n",
    "print(\"Test MSE: \", mse)\n",
    "mlflow.log_metric(key=\"test_mse\", value=mse)\n",
    "\n",
    "signature = mlflow.models.infer_signature(X_train, model.predict(X_train))\n",
    "mlflow.sklearn.log_model(model, artifact_path='model', signature=signature)\n",
    "\n",
    "# #######\n",
    "\n",
    "mlflow.end_run()\n"
   ]
  },
  {
   "cell_type": "markdown",
   "metadata": {},
   "source": [
    "### Mini-batch"
   ]
  },
  {
   "cell_type": "code",
   "execution_count": 13,
   "metadata": {},
   "outputs": [
    {
     "name": "stdout",
     "output_type": "stream",
     "text": [
      "Fold 0: 2865.8455203860167\n",
      "Fold 1: 2800.882923663851\n",
      "Fold 2: 2512.0123924926006\n",
      "Fold 3: 3928.3453778917105\n",
      "Fold 4: 2552.416840586846\n",
      "Test MSE:  3250.476800168481\n"
     ]
    },
    {
     "name": "stderr",
     "output_type": "stream",
     "text": [
      "2024/08/26 11:42:11 WARNING mlflow.utils.environment: Failed to resolve installed pip version. ``pip`` will be added to conda.yaml environment spec without a version specifier.\n"
     ]
    }
   ],
   "source": [
    "params = {\"method\": \"mini\", \"lr\": 0.1}\n",
    "mlflow.start_run(run_name=f\"method-{params['method']}-lr-{params['lr']}\", nested=True)\n",
    "\n",
    "#######\n",
    "\n",
    "model = LinearRegression(**params)\n",
    "model.fit(X_train, y_train)\n",
    "yhat = model.predict(X_test)\n",
    "mse  = model.mse(yhat, y_test)\n",
    "\n",
    "# print the mse\n",
    "print(\"Test MSE: \", mse)\n",
    "mlflow.log_metric(key=\"test_mse\", value=mse)\n",
    "\n",
    "signature = mlflow.models.infer_signature(X_train, model.predict(X_train))\n",
    "mlflow.sklearn.log_model(model, artifact_path='model', signature=signature)\n",
    "\n",
    "#######\n",
    "\n",
    "mlflow.end_run()\n"
   ]
  },
  {
   "cell_type": "markdown",
   "metadata": {},
   "source": [
    "## Some graphs..."
   ]
  },
  {
   "cell_type": "code",
   "execution_count": 14,
   "metadata": {},
   "outputs": [
    {
     "data": {
      "image/png": "[encoded data removed]",
      "text/plain": [
       "<Figure size 500x500 with 1 Axes>"
      ]
     },
     "metadata": {},
     "output_type": "display_data"
    }
   ],
   "source": [
    "import matplotlib.pyplot as plt\n",
    "\n",
    "plt.figure(figsize=(5,5))\n",
    "plt.scatter(y_test, yhat, c='crimson')\n",
    "\n",
    "p1 = max(max(yhat), max(y_test))\n",
    "p2 = min(min(yhat), min(y_test))\n",
    "plt.plot([p1, p2], [p1, p2], 'b-')\n",
    "plt.xlabel('True Values', fontsize=15)\n",
    "plt.ylabel('Predictions', fontsize=15)\n",
    "plt.axis('equal')\n",
    "plt.show()"
   ]
  },
  {
   "cell_type": "markdown",
   "metadata": {},
   "source": [
    "## Group Workshop - Check your understandings\n",
    "\n",
    "| | Egg price | Gold price    | Oil price   | GDP   | $\\hat{y}$ |  $(\\hat{y} - y)^2$ |\n",
    "|---:|:------ |:-----------   |:------      |:------|:------    |  :------           |    \n",
    "| 1  | 3      | 100           | 4           | 21    | 28        |  49                |\n",
    "| 2  | 4      | 500           | 7           | 43    | 79        |  1296              |\n",
    "| 3  | 5      | 200           | 6           | 56    | 48        |  64                |\n",
    "| 4  | 6      | 300           | 8           | 21    | 66        |  2025              |\n",
    "| 5  | 7      | 400           | 2           | 44    | 60        |  256               |\n",
    "\n",
    "Note:  this table is filled with given weight of [2, 0.1, 3].\n",
    "\n",
    "Answer the following questions:\n",
    "\n",
    "Instruction:  Gather in your group.  Will randomly pick groups to present.\n",
    "\n",
    "1.  Explain why Chaky teach stochastic and mini-batch gradient descent.  Why we should care?  Explain in your own words.\n",
    "2.  Given the second sample $\\mathbf{x}^{(2)}$, and given a weight $\\boldsymbol{\\theta}$ of [2, 0.1, 3], what is $\\hat{y}$?\n",
    "3.  Continued from above, what is $J(\\theta)$?\n",
    "4.  Using stochastic gradient descent based on only $\\mathbf{x}^{(2)}$, what is $\\displaystyle \\frac{\\partial J}{\\partial \\theta_2}$.\n",
    "5.  Using stochastic gradient descent based on only $\\mathbf{x}^{(2)}$, what is $\\displaystyle \\frac{\\partial J}{\\partial \\theta}$.\n",
    "6.  Using mini-batch gradient descent based on $(\\mathbf{x}^{(2)}, \\mathbf{x}^{(4)}, \\mathbf{x}^{(5)})$, what is $\\displaystyle \\frac{\\partial J}{\\partial \\theta_2}$.\n",
    "7.  Using mini-batch gradient descent based on $(\\mathbf{x}^{(2)}, \\mathbf{x}^{(4)}, \\mathbf{x}^{(5)})$, what is $\\displaystyle \\frac{\\partial J}{\\partial \\theta}$.\n",
    "8.  What's the shape of `X_train` and `y_train`?\n",
    "9.  What does `batch_size=50` means?  In one epoch, how many loops we will have?  How do we know?\n",
    "11. what is `np.infty`?  Why is set like that?\n",
    "12. What's the shape of `X_cross_train` and `y_cross_train`?\n",
    "13. What's the shape of `X_method_train` and `y_method_train` in the case of stochastic gradient descent?\n",
    "14. What's the shape of `X_method_train` and `y_method_train` in the case of mini-batch gradient descent?\n",
    "15. What's the shape of `X_method_train` and `y_method_train` in the case of batch gradient descent?\n",
    "16. For each fold, is the theta reset or is continued from the previous fold?\n",
    "17. In https://scikit-learn.org/stable/modules/classes.html#module-sklearn.model_selection, there are many ways to split and `KFold` is the simplest.  Try do `enumerate` the `ShuffleSplit` and tells us what index it gave us.   If you are confused, see the examples shown in https://scikit-learn.org/stable/modules/generated/sklearn.model_selection.ShuffleSplit.html#sklearn.model_selection.ShuffleSplit\n",
    "18. What doe one epoch means?\n",
    "19. In one `epoch`, we train a model using all training data.  Which line(s) of code makes sure we used all the training data?\n",
    "20. What is `np.random.permutation` and what does it give you?  Demonstrate your answer with trial code.\n",
    "21. In a line `X_method_train = X_cross_train[batch_idx].reshape(1, -1)`, why do we need to reshape?\n",
    "22. In a line `yhat_val = self.predict(X_cross_val)`, when should validation happens?  \n",
    "23. What does this line do: `if np.allclose(val_loss_new, self.val_loss_old): break`?\n",
    "24. Explain why the coefficients can be achieved via `return self.theta[1:]`"
   ]
  }
 ],
 "metadata": {
  "kernelspec": {
   "display_name": "Python 3.8.6 ('teaching_env')",
   "language": "python",
   "name": "python3"
  },
  "language_info": {
   "codemirror_mode": {
    "name": "ipython",
    "version": 3
   },
   "file_extension": ".py",
   "mimetype": "text/x-python",
   "name": "python",
   "nbconvert_exporter": "python",
   "pygments_lexer": "ipython3",
   "version": "3.10.14"
  },
  "vscode": {
   "interpreter": {
    "hash": "becc4c8e5ad229b2591d820334d85e3db0111492344629bf57f272470dce75a5"
   }
  }
 },
 "nbformat": 4,
 "nbformat_minor": 4
}
