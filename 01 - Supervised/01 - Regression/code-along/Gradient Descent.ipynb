{
 "cells": [
  {
   "cell_type": "markdown",
   "metadata": {},
   "source": [
    "# Gradient Descent"
   ]
  },
  {
   "cell_type": "markdown",
   "metadata": {},
   "source": [
    "## 1. Load data"
   ]
  },
  {
   "cell_type": "code",
   "execution_count": 1,
   "metadata": {},
   "outputs": [
    {
     "data": {
      "text/plain": [
       "(4,)"
      ]
     },
     "execution_count": 1,
     "metadata": {},
     "output_type": "execute_result"
    }
   ],
   "source": [
    "import numpy as np\n",
    "\n",
    "X_train = np.array([[1, 1], [2, 2], [2, 9], [1, 14]])\n",
    "X_train.shape #m, n\n",
    "\n",
    "y_train = np.array([3, 4, 10, 13])\n",
    "y_train.shape #m, \n",
    "\n",
    "X_val = np.array([[1.5, 2], [2, 3], [1, 9], [1, 13]])\n",
    "X_val.shape #m, n\n",
    "\n",
    "y_val = np.array([3, 4, 9.5, 13.5])\n",
    "y_val.shape #m, \n",
    "\n",
    "X_test = np.array([[2, 1], [1, 2], [2, 8], [2, 13]])\n",
    "X_test.shape #m, n\n",
    "\n",
    "y_test = np.array([2, 5, 9, 14])\n",
    "y_test.shape #m, \n",
    "\n",
    "# assert X_train.shape[1] == X_test.shape[1]\n"
   ]
  },
  {
   "cell_type": "markdown",
   "metadata": {},
   "source": [
    "## 2. Modeling\n",
    "\n",
    "Imagine you do:\n",
    "1. imputation - cleaning\n",
    "2. scaling"
   ]
  },
  {
   "cell_type": "code",
   "execution_count": 2,
   "metadata": {},
   "outputs": [],
   "source": [
    "# for definitions\n",
    "m_train, n_train = X_train.shape\n",
    "m_val, n_val     = X_val.shape\n",
    "m_test, n_test   = X_test.shape\n",
    "num_epochs       = 5\n",
    "theta            = np.zeros(  (n_train,   )  )\n",
    "lr               = 0.001"
   ]
  },
  {
   "cell_type": "code",
   "execution_count": 3,
   "metadata": {},
   "outputs": [
    {
     "name": "stdout",
     "output_type": "stream",
     "text": [
      "Epoch: 0  : train_loss=73.500\n",
      "Epoch: 1  : train_loss=63.614\n",
      "Epoch: 2  : train_loss=55.096\n",
      "Epoch: 3  : train_loss=47.755\n",
      "Epoch: 4  : train_loss=41.428\n"
     ]
    }
   ],
   "source": [
    "#1. loop according to epoch\n",
    "for i in range(num_epochs):  #0, 1, 2, 3, 4\n",
    "    \n",
    "    #2. predict\n",
    "    yhat = X_train @ theta # (m, n) x (n, 1) = (m, 1)  #<---same shape as y \n",
    "    \n",
    "    #3. gradient\n",
    "    #X^T (h - y)\n",
    "    grad = (X_train.T @ (yhat - y_train) ) / m_train  #(n, m) @ (m, 1) = (n, 1)\n",
    "    \n",
    "    #4. update\n",
    "    theta = theta - lr * grad  # (n, 1) - (1) (n, 1) = (n, 1)\n",
    "    \n",
    "    train_loss =  (  ( yhat - y_train ) ** 2   ).sum() / m_train\n",
    "\n",
    "    #validation loss\n",
    "    #1. take the current theta, and do prediction with the validation set\n",
    "    yhat_val = X_val @ theta\n",
    "    #2. calculate the loss with y_val\n",
    "    val_loss = (  ( yhat_val - y_val ) ** 2   ).sum() / m_val\n",
    "    #3. finish\n",
    "    \n",
    "    print(f\"Epoch: {i}  : {train_loss=:.3f}\")"
   ]
  },
  {
   "cell_type": "code",
   "execution_count": null,
   "metadata": {},
   "outputs": [],
   "source": []
  }
 ],
 "metadata": {
  "kernelspec": {
   "display_name": ".venv",
   "language": "python",
   "name": "python3"
  },
  "language_info": {
   "codemirror_mode": {
    "name": "ipython",
    "version": 3
   },
   "file_extension": ".py",
   "mimetype": "text/x-python",
   "name": "python",
   "nbconvert_exporter": "python",
   "pygments_lexer": "ipython3",
   "version": "3.11.2"
  }
 },
 "nbformat": 4,
 "nbformat_minor": 2
}
