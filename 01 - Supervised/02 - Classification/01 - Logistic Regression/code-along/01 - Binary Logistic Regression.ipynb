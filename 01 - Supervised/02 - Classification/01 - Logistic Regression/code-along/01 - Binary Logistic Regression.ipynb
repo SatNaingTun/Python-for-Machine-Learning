{
 "cells": [
  {
   "attachments": {},
   "cell_type": "markdown",
   "metadata": {},
   "source": [
    "# Logistic Regression"
   ]
  },
  {
   "cell_type": "code",
   "execution_count": null,
   "metadata": {},
   "outputs": [],
   "source": [
    "import numpy as np\n",
    "import matplotlib.pyplot as plt"
   ]
  },
  {
   "attachments": {},
   "cell_type": "markdown",
   "metadata": {},
   "source": [
    "## Logit/sigmoid function\n",
    "\n",
    "$$g(\\boldsymbol{\\theta}^T\\mathbf{x}) \\in \\{0, 1\\}$$\n",
    "\n",
    "$$ h = g(\\boldsymbol{\\theta}^T\\mathbf{x}) = \\frac{1}{1+e^{-\\boldsymbol{\\theta}^T\\mathbf{x}}} $$"
   ]
  },
  {
   "cell_type": "markdown",
   "metadata": {},
   "source": [
    "## Euler function"
   ]
  },
  {
   "cell_type": "markdown",
   "metadata": {},
   "source": [
    "## Sigmoid function"
   ]
  },
  {
   "cell_type": "markdown",
   "metadata": {},
   "source": [
    "## Example"
   ]
  },
  {
   "cell_type": "markdown",
   "metadata": {},
   "source": [
    "## Loss function for classification\n",
    "\n",
    "\n",
    "**Binary cross-entropy**\n",
    "\n",
    "$$J = - (\\sum_{i=1}^m y^{(i)}\\log(h^{(i)}) + (1-y^{(i)})\\log(1-h^{(i)}))$$"
   ]
  },
  {
   "attachments": {},
   "cell_type": "markdown",
   "metadata": {},
   "source": [
    "## Gradient of binary cross entropy\n",
    "\n",
    "$$J = - (y^{(i)}\\log(h^{(i)}) + (1-y^{(i)})\\log(1-h^{(i)}))$$\n",
    "$$h = \\frac{1}{1+e^{-g}}$$\n",
    "$$g = \\boldsymbol{\\theta}^T\\mathbf{x}$$\n",
    "\n",
    "\n",
    "Thus, gradient of $J$ in respect to some $\\theta_j$ is\n",
    "\n",
    "$$\\frac{\\partial J}{\\partial \\theta_j} = \\frac{\\partial J}{\\partial h} \\frac{\\partial h}{\\partial g} \\frac{\\partial g}{\\partial \\theta_j}$$\n",
    "\n",
    "$$ \\frac{\\partial J}{\\partial \\theta} = \\mathbf{X}^\\top (\\mathbf{h} - \\mathbf{y})$$\n"
   ]
  },
  {
   "attachments": {},
   "cell_type": "markdown",
   "metadata": {},
   "source": [
    "### 1: Prepare your data"
   ]
  },
  {
   "cell_type": "code",
   "execution_count": null,
   "metadata": {},
   "outputs": [],
   "source": [
    "from sklearn import linear_model\n",
    "from sklearn.datasets import make_classification\n",
    "from sklearn.model_selection import train_test_split\n",
    "from sklearn.preprocessing import StandardScaler\n",
    "\n",
    "X, y = make_classification(n_samples=500, n_features=10, n_redundant=2, n_informative=4,\n",
    "                             n_clusters_per_class=2, random_state=14)\n",
    "plt.scatter(X[:, 0], X[:, 1], marker='o', c=y,\n",
    "            s=25, edgecolor='k')\n",
    "\n",
    "X_train, X_test, y_train, y_test = train_test_split(X, y, test_size=0.3)\n",
    "\n",
    "# feature scaling helps reaching convergence faster\n",
    "scaler  = StandardScaler()\n",
    "X_train = scaler.fit_transform(X_train)\n",
    "X_test  = scaler.transform(X_test)\n",
    "\n",
    "#add intercepts\n",
    "intercept = np.ones((X_train.shape[0], 1))\n",
    "X_train   = np.concatenate((intercept, X_train), axis=1)  # add intercept\n",
    "intercept = np.ones((X_test.shape[0], 1))\n",
    "X_test    = np.concatenate((intercept, X_test), axis=1)  # add intercept"
   ]
  },
  {
   "attachments": {},
   "cell_type": "markdown",
   "metadata": {},
   "source": [
    "### 2: Fit your algorithm \n",
    "\n",
    "#### 2.1 Training"
   ]
  },
  {
   "cell_type": "code",
   "execution_count": null,
   "metadata": {},
   "outputs": [],
   "source": [
    "#fit\n",
    "\n",
    "#grad\n",
    "\n",
    "#sigmoid\n",
    "\n",
    "#predict     \n",
    "\n",
    "#output\n"
   ]
  },
  {
   "attachments": {},
   "cell_type": "markdown",
   "metadata": {},
   "source": [
    "#### 2.2 Compute accuracy"
   ]
  },
  {
   "cell_type": "markdown",
   "metadata": {},
   "source": [
    "## 3. Inference\n",
    "\n",
    "Try to do this by yourself."
   ]
  }
 ],
 "metadata": {
  "kernelspec": {
   "display_name": "Python 3.8.6 ('teaching_env')",
   "language": "python",
   "name": "python3"
  },
  "language_info": {
   "codemirror_mode": {
    "name": "ipython",
    "version": 3
   },
   "file_extension": ".py",
   "mimetype": "text/x-python",
   "name": "python",
   "nbconvert_exporter": "python",
   "pygments_lexer": "ipython3",
   "version": "3.11.2"
  },
  "vscode": {
   "interpreter": {
    "hash": "becc4c8e5ad229b2591d820334d85e3db0111492344629bf57f272470dce75a5"
   }
  }
 },
 "nbformat": 4,
 "nbformat_minor": 4
}
