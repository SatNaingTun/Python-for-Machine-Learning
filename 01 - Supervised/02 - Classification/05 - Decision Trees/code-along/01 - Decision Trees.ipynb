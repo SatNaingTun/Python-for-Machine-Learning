{
 "cells": [
  {
   "attachments": {},
   "cell_type": "markdown",
   "metadata": {},
   "source": [
    "# Decision Trees"
   ]
  },
  {
   "cell_type": "code",
   "execution_count": 1,
   "metadata": {},
   "outputs": [],
   "source": [
    "import matplotlib.pyplot as plt\n",
    "import numpy as np"
   ]
  },
  {
   "attachments": {},
   "cell_type": "markdown",
   "metadata": {},
   "source": [
    "## How is a Decision Tree fit?\n",
    "\n",
    "* Which variables to include on the tree?\n",
    "* How to choose the threshold?\n",
    "* When to stop the tree?\n",
    "\n",
    "**Key idea is that we want to choose the feature that has the lowest \"impurity\" to split our tree, thus our tree can reach the decision as fast as possible with smallest height possible.**\n",
    "\n",
    "One way to measure impurity is using **Gini index** (another one is entropy but which measure very similar thing) with the following formula:\n",
    "\n",
    "$$ I_{G} = 1 - \\sum_{i=1}^{c} p_{i}^{2} $$\n",
    "\n",
    "where $c$ is number of classes, and $p_{i}$ is the probability of each class.  For example, let's say our X is <code>[[2],[3],[10],[19]]</code> and y is <code>[0, 0, 1, 1]</code>.  That is, if a node has 4 samples, and 2 samples are of class cancer, and 2 samples are of no cancer, then the probability of each class is\n",
    "\n",
    "$$p_{cancer}=(2/4)^2 = 0.25$$\n",
    "\n",
    "$$p_{no_cancer}=(2/4)^2 = 0.25$$   \n",
    "\n",
    "Thus the gini index of this node is\n",
    "\n",
    "$$ I_{G} = 1 - (0.25 + 0.25) = 0.5 $$\n",
    "\n",
    "Then we need to decide how to best split this node so we can get the lowest gini (highest purity) children.\n",
    "\n",
    "For example, if we split this sample with $x < 3$: we will get left node X as <code>[[2]]</code> and y as <code>[0]</code> and the right node X as <code>[[3],[10],[19]]</code> and y as <code>[0, 1, 1]</code>.  The weighted gini of the children are \n",
    "\n",
    "$$ 1/4*I_{leftG} + 3/4 * I_{rightG} =  $$\n",
    "$$ 1/4 * (1 - (1/1)^2) + 3/4 * (1 - (1/3)^2 - (2/3)^2) = 0.33 $$\n",
    "\n",
    "Hmm...but we know we can split better, right?  Let's try $x < 4$: we will get left node X as <code>[[2],[3]]</code> and y as <code>[0, 0]</code> and the right node X as <code>[[10],[19]]</code> and y as <code>[1, 1]</code>.  If you do the math right, the gini is 0!\n",
    "\n",
    "$$ 2/4 * (1 - (2/2)^2) + 2/4 * (1 - (2/2)^2 ) = 0 $$\n",
    "\n",
    "Thus, in conclusion, we can say that spliting $x<4$ is a much better split than $x<3$.  In practice, to really find the best split, it is an exhaustive and greedy algorithm, in which we have to iterate and check every value on each feature as a candidate split, find the gini index.  \n",
    "\n",
    "#### How do we find all threshold for continuous values?\n",
    "\n",
    "We can first sort.  Then we are identify critical value using the midpoint between all consecutive values.  For example, given X is <code>[[2],[3],[10],[19]]</code>, the critical value to compare is 2.5, 6.5 and 14.5.\n",
    "\n",
    "The code can be implemented in several ways.  Example are shown below:"
   ]
  },
  {
   "cell_type": "code",
   "execution_count": null,
   "metadata": {},
   "outputs": [],
   "source": []
  },
  {
   "attachments": {},
   "cell_type": "markdown",
   "metadata": {},
   "source": [
    "## Let's implement!"
   ]
  },
  {
   "cell_type": "code",
   "execution_count": null,
   "metadata": {},
   "outputs": [],
   "source": []
  }
 ],
 "metadata": {
  "kernelspec": {
   "display_name": "Python 3",
   "language": "python",
   "name": "python3"
  },
  "language_info": {
   "codemirror_mode": {
    "name": "ipython",
    "version": 3
   },
   "file_extension": ".py",
   "mimetype": "text/x-python",
   "name": "python",
   "nbconvert_exporter": "python",
   "pygments_lexer": "ipython3",
   "version": "3.11.2"
  }
 },
 "nbformat": 4,
 "nbformat_minor": 4
}
