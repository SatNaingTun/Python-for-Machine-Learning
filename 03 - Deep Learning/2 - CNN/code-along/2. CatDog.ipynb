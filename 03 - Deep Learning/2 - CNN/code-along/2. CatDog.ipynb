{
 "cells": [
  {
   "cell_type": "markdown",
   "metadata": {},
   "source": [
    "# Cat Dogs classification"
   ]
  },
  {
   "cell_type": "markdown",
   "metadata": {},
   "source": [
    "## Part 1. Basic image processing"
   ]
  },
  {
   "cell_type": "markdown",
   "metadata": {},
   "source": [
    "### Basic image opening"
   ]
  },
  {
   "cell_type": "code",
   "execution_count": 7,
   "metadata": {},
   "outputs": [],
   "source": [
    "import numpy as np\n",
    "import os\n",
    "from PIL import Image #!pip install pillow\n",
    "from IPython.display import display"
   ]
  },
  {
   "cell_type": "code",
   "execution_count": 10,
   "metadata": {},
   "outputs": [
    {
     "name": "stdout",
     "output_type": "stream",
     "text": [
      "(280, 300, 3)\n"
     ]
    }
   ],
   "source": [
    "with Image.open('../case_studies/data/cat_dog/train/cat/1.jpg') as my_cat:\n",
    "    # display(my_cat)\n",
    "    nparray_cat = np.array(my_cat)\n",
    "    print(nparray_cat.shape)"
   ]
  },
  {
   "cell_type": "markdown",
   "metadata": {},
   "source": [
    "### How to loop through all the files in folder"
   ]
  },
  {
   "cell_type": "code",
   "execution_count": 17,
   "metadata": {},
   "outputs": [
    {
     "data": {
      "text/plain": [
       "25007"
      ]
     },
     "execution_count": 17,
     "metadata": {},
     "output_type": "execute_result"
    }
   ],
   "source": [
    "path = '../case_studies/data/cat_dog/'\n",
    "img_names = []  #get all the image names --> os.walk\n",
    "\n",
    "for folder, subfolders, filenames in os.walk(path):\n",
    "    # print(f\"{folder} | {subfolders} | {filenames}\")\n",
    "    #write whatever filtering you want - to get the file you want\n",
    "    for name in filenames:\n",
    "        img_names.append(folder + '/' + name)\n",
    "        \n",
    "len(img_names)"
   ]
  },
  {
   "cell_type": "markdown",
   "metadata": {},
   "source": [
    "### Transformation\n",
    "\n",
    "- In deep learning for computer vision, we often transform our image as either (1) preprocessing step, or for (2) data augmentation"
   ]
  },
  {
   "cell_type": "code",
   "execution_count": 23,
   "metadata": {},
   "outputs": [],
   "source": [
    "dog = Image.open('../case_studies/data/cat_dog/train/dog/14.jpg')\n",
    "# dog.size  #h = 500, w = 386\n",
    "# display(dog)\n",
    "# dog.getpixel??\n",
    "# r, g, b = dog.getpixel((0, 0))\n",
    "# print(r, g, b)  #this will be useful for filtering"
   ]
  },
  {
   "cell_type": "code",
   "execution_count": 30,
   "metadata": {},
   "outputs": [
    {
     "data": {
      "text/plain": [
       "1.0"
      ]
     },
     "execution_count": 30,
     "metadata": {},
     "output_type": "execute_result"
    }
   ],
   "source": [
    "from torchvision import transforms\n",
    "\n",
    "#most basic transformation, which is making 0-255 to 0-1\n",
    "transform = transforms.Compose([\n",
    "    transforms.ToTensor()\n",
    "])\n",
    "norm_dog = transform(dog)\n",
    "np_norm_dog = np.array(norm_dog)\n",
    "np_norm_dog.max()"
   ]
  },
  {
   "cell_type": "markdown",
   "metadata": {},
   "source": [
    "## Part 2. CNN"
   ]
  },
  {
   "cell_type": "markdown",
   "metadata": {},
   "source": [
    "## Part 3. Using pretrained models"
   ]
  }
 ],
 "metadata": {
  "kernelspec": {
   "display_name": ".venv",
   "language": "python",
   "name": "python3"
  },
  "language_info": {
   "codemirror_mode": {
    "name": "ipython",
    "version": 3
   },
   "file_extension": ".py",
   "mimetype": "text/x-python",
   "name": "python",
   "nbconvert_exporter": "python",
   "pygments_lexer": "ipython3",
   "version": "3.11.2"
  }
 },
 "nbformat": 4,
 "nbformat_minor": 2
}
